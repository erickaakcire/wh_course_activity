{
 "cells": [
  {
   "cell_type": "markdown",
   "id": "ffea557e",
   "metadata": {},
   "source": [
    "# CMN512V - Social Science with Online Data \n",
    "\n",
    "-------\n",
    "\n",
    "## Module 4 Demo: Web History\n",
    "\n",
    "## Intro\n",
    "\n",
    "You may have heard that tech companies use our behavior online to deliver targeted ads, or that the government can demand access to this data, but what can the data that big tech companies have about us really reveal?\n",
    "\n",
    "![](https://drive.google.com/file/d/1j4136RMOVolt6Vsn4IZLKjhyJAFaBaSv/view?usp=sharing)\n",
    "\n",
    "More seriously, the recent repeal of the constitutional right to abortion in the United States, and the subsequent abortion restrictions and bans in some States prompted some to speculate that [search history could be used as evidence in court](https://www.washingtonpost.com/technology/2022/07/01/google-privacy-abortion/) to prove an illegal abortion has taken place. The author of this opinion said that companies like Google should keep less information about all users to protect people from these types of dangers.\n",
    "\n",
    "In this demo you will look at what [Google has predicted about you and your interests](https://adssettings.google.com/) based on your search history and all of the data it has about you, and you will examine your own search history by accessing data that is already on your computer.\n",
    "\n",
    "## Our Strategy\n",
    "\n",
    "You have been asked to use the Chrome web browser on your desktop computer over the past few weeks. This demo depends on you having done so. We will use the [Web Historian Educational Edition Chrome extension](https://chrome.google.com/webstore/detail/web-historian-education-e/chpcblajbmmlbhecpnnadmjmlbhkloji) to show you your overall browsing data, and to provide you with a `.json` file to analyze in this demo. This extension does not collect any of your data, it just enables your browser to show you the data it has locally. Feel free to explore the visualizations (particularly the Search Terms), but for this demo you just need to click the \"Download JSON\" button on the front page. This will give you a file called `web_historian_data.json`\n",
    "\n",
    "If you have not been able to use Chrome on a desktop, or if you want to use demo data, just download \n",
    " <a href=\"https://raw.githubusercontent.com/erickaakcire/explore_web_historian/main/web_historian_data_demo.json\" download>this `.json` file</a>.\n",
    "\n",
    "### Your privacy in this class\n",
    "This notebook is written in a way that respects your privacy.  Only you will see the analysis of your data, and when you upload your file to this notebook, the contents of that file will be forgotten when you download or submit the notebook, when you refresh the page, or when you click `\"Runtime\" -> \"Reset all runtimes ...\"`.  The only thing to be concerned about is that the outputs of your code will remain visible by default.  To keep your browsing data results private in this class:\n",
    "*   Don't share a copy of this notebook that exposes your output data to others.  At the top of this notebook you can click `\"Edit\" -> \"Clear all outputs\"` to hide the results of your code.   \n",
    "*   For any work you actually submit, switch out your data file for the  <a href=\"https://raw.githubusercontent.com/erickaakcire/explore_web_historian/main/web_historian_data_demo.json\" download>sample `.json` file</a> that I provide.  \n"
   ]
  }
 ],
 "metadata": {
  "kernelspec": {
   "display_name": "Python 3 (ipykernel)",
   "language": "python",
   "name": "python3"
  },
  "language_info": {
   "codemirror_mode": {
    "name": "ipython",
    "version": 3
   },
   "file_extension": ".py",
   "mimetype": "text/x-python",
   "name": "python",
   "nbconvert_exporter": "python",
   "pygments_lexer": "ipython3",
   "version": "3.9.7"
  }
 },
 "nbformat": 4,
 "nbformat_minor": 5
}
